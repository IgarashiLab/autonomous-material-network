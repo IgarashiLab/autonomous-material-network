{
 "cells": [
  {
   "cell_type": "code",
   "execution_count": null,
   "metadata": {},
   "outputs": [],
   "source": [
    "import matplotlib.pyplot as plt\n",
    "import japanize_matplotlib\n",
    "import numpy as np"
   ]
  },
  {
   "cell_type": "code",
   "execution_count": null,
   "metadata": {},
   "outputs": [],
   "source": [
    "import re\n",
    "\n",
    "def get_model_select(filepath):\n",
    "    with open(filepath, 'r') as file:\n",
    "        lines = file.readlines()\n",
    "    pattern_task_info=r\"(\\d+\\.?\\d*) ([A-Za-z_]+) ([a-z_]+)\"\n",
    "    pattern_selected_model=r\"選択したモデル：(.+), val_loss：(\\d+\\.?\\d*)\"\n",
    "\n",
    "    task_info_list=[]\n",
    "    selected_model_list=[]\n",
    "    for line in lines:\n",
    "        match_ti=re.match(pattern_task_info,line)\n",
    "        if match_ti:\n",
    "            task_info_list.append((float(match_ti.group(1)),match_ti.group(2),match_ti.group(3)))\n",
    "        match_ml=re.match(pattern_selected_model,line)\n",
    "        if match_ml:\n",
    "            selected_model_list.append((match_ml.group(1),float(match_ml.group(2))))\n",
    "    \n",
    "    if len(task_info_list)!=len(selected_model_list):\n",
    "        print(\"ERROR\")\n",
    "        return None\n",
    "\n",
    "    result_model_selection={}\n",
    "    for i in range(len(task_info_list)):\n",
    "        if not (task_info_list[i][1] in result_model_selection.keys()):\n",
    "            result_model_selection[task_info_list[i][1]]=[]\n",
    "\n",
    "        # (実行モード,選択されたモデル,モデルのval_loss)\n",
    "        result_model_selection[task_info_list[i][1]].append((task_info_list[i][2],selected_model_list[i][0],selected_model_list[i][1]))\n",
    "    return result_model_selection\n"
   ]
  },
  {
   "cell_type": "markdown",
   "metadata": {},
   "source": [
    "### val_lossの比較と選択したモデル"
   ]
  },
  {
   "cell_type": "code",
   "execution_count": null,
   "metadata": {},
   "outputs": [],
   "source": [
    "import os\n",
    "def plot_loss_and_model(obj_name,seed,random_search,path_list,label_list):\n",
    "    result_model_selection=[]\n",
    "    for path in path_list:\n",
    "        result_model_selection.append(get_model_select(os.path.join(path,f\"stdout{seed}\")))\n",
    "\n",
    "    result_lists=[]\n",
    "    for rms in result_model_selection:\n",
    "        result_lists.append(rms[f\"BO_system_{obj_name}\"])\n",
    "\n",
    "    for i, result_list in enumerate(result_lists):\n",
    "        plt.plot(np.arange(random_search,random_search+len(result_list)),[result_list[i][2] for i in range(len(result_list))], c=f\"C{i}\", label=label_list[i])\n",
    "\n",
    "    # 転移学習モデルの表示\n",
    "    color_dict={\"no_transfer\":\"C3\",\"transfer_CT\":\"C4\",\"transfer_MM\":\"C5\",\"transfer_SP\":\"C6\"}\n",
    "    model_count_list=[]\n",
    "    for result_list in result_lists:\n",
    "        model_count=dict()\n",
    "        for model in color_dict.keys():\n",
    "            for i in range(len(result_list)):\n",
    "                if result_list[i][0]==\"transfer\" and model==result_list[i][1]:\n",
    "                    if result_list[i][1] in model_count.keys():\n",
    "                        plt.plot(i+random_search,result_list[i][2],\"o\",c=color_dict[result_list[i][1]])\n",
    "                        model_count[result_list[i][1]]+=1\n",
    "                    else:\n",
    "                        plt.plot(i+random_search,result_list[i][2],\"o\",c=color_dict[result_list[i][1]], label=result_list[i][1])\n",
    "                        model_count[result_list[i][1]]=1\n",
    "        model_count_list.append(model_count)\n",
    "\n",
    "        # 知見共有を行った点\n",
    "        for j in range(len(result_list)):\n",
    "            if result_list[j][0]==\"transfer\":\n",
    "                plt.axvline(x=random_search+j, color='gray', linestyle='--', alpha=0.2)\n",
    "    # 探索開始の表示\n",
    "    plt.axvline(x=random_search, color='gray', linestyle='-', alpha=0.5)\n",
    "\n",
    "\n",
    "    plt.xlabel(\"探索回数\")\n",
    "    plt.ylabel(\"選択されたモデルのval_loss\")\n",
    "    plt.title(f\"選択されたモデルのval_lossの比較{seed} ({obj_name})\")\n",
    "\n",
    "    plt.xlim(-5,len(result_lists[0])+random_search)\n",
    "\n",
    "    \n",
    "\n",
    "    plt.legend()\n",
    "    plt.show()\n",
    "\n",
    "    return model_count_list"
   ]
  },
  {
   "cell_type": "code",
   "execution_count": null,
   "metadata": {},
   "outputs": [],
   "source": [
    "obj_name=\"CT\"\n",
    "result_num=10\n",
    "random_search=10\n",
    "\n",
    "path_list=[\"result_network10\",\"result_network9\"]\n",
    "label_list=[\"知見共有なし\",\"知見共有あり(周期1)\"]\n",
    "\n",
    "sum_model_count={}\n",
    "for i in range(result_num):\n",
    "    model_count=plot_loss_and_model(obj_name,i,random_search,path_list,label_list)\n",
    "    print(model_count)\n",
    "#     for model in model_count.keys():\n",
    "#         if model in sum_model_count:\n",
    "#             sum_model_count[model]+=model_count[model]\n",
    "#         else:\n",
    "#             sum_model_count[model]=model_count[model]\n",
    "# print(\"選択されたモデルの合計数\\n\",sum_model_count)"
   ]
  },
  {
   "cell_type": "code",
   "execution_count": null,
   "metadata": {},
   "outputs": [],
   "source": []
  }
 ],
 "metadata": {
  "kernelspec": {
   "display_name": "Python 3",
   "language": "python",
   "name": "python3"
  },
  "language_info": {
   "codemirror_mode": {
    "name": "ipython",
    "version": 3
   },
   "file_extension": ".py",
   "mimetype": "text/x-python",
   "name": "python",
   "nbconvert_exporter": "python",
   "pygments_lexer": "ipython3",
   "version": "3.8.10"
  }
 },
 "nbformat": 4,
 "nbformat_minor": 2
}
