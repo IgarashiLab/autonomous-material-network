{
 "cells": [
  {
   "cell_type": "code",
   "execution_count": null,
   "metadata": {},
   "outputs": [],
   "source": [
    "import matplotlib.pyplot as plt\n",
    "import numpy as np\n",
    "import pandas as pd\n",
    "import japanize_matplotlib\n",
    "import os"
   ]
  },
  {
   "cell_type": "code",
   "execution_count": null,
   "metadata": {},
   "outputs": [],
   "source": [
    "import re\n",
    "\n",
    "def get_model_select(filepath):\n",
    "    with open(filepath, 'r') as file:\n",
    "        lines = file.readlines()\n",
    "    pattern_task_info=r\"(\\d+\\.?\\d*) ([A-Za-z_]+) ([a-z_]+)\"\n",
    "    pattern_selected_model=r\"Selected model：(.+), val_loss：(\\d+\\.?\\d*)\"\n",
    "\n",
    "    task_info_list=[]\n",
    "    selected_model_list=[]\n",
    "    for line in lines:\n",
    "        match_ti=re.match(pattern_task_info,line)\n",
    "        if match_ti:\n",
    "            task_info_list.append((float(match_ti.group(1)),match_ti.group(2),match_ti.group(3)))\n",
    "        match_ml=re.match(pattern_selected_model,line)\n",
    "        if match_ml:\n",
    "            selected_model_list.append((match_ml.group(1),float(match_ml.group(2))))\n",
    "    \n",
    "    if len(task_info_list)!=len(selected_model_list):\n",
    "        print(\"ERROR\")\n",
    "        return None\n",
    "\n",
    "    result_model_selection={}\n",
    "    for i in range(len(task_info_list)):\n",
    "        if not (task_info_list[i][1] in result_model_selection.keys()):\n",
    "            result_model_selection[task_info_list[i][1]]=[]\n",
    "\n",
    "        # (Execution mode, selected model, model's val_loss)\n",
    "        result_model_selection[task_info_list[i][1]].append((task_info_list[i][2],selected_model_list[i][0],selected_model_list[i][1]))\n",
    "    return result_model_selection"
   ]
  },
  {
   "cell_type": "code",
   "execution_count": null,
   "metadata": {},
   "outputs": [],
   "source": [
    "def get_max_array(result_path,result_num=10):\n",
    "    result_list=[]\n",
    "    for i in range(0,result_num):\n",
    "        df = pd.read_csv(os.path.join(result_path,f\"observed_target{i}.csv\"), header=None)\n",
    "        result_list.append(df)\n",
    "    searched_array = pd.concat(result_list, axis=1).to_numpy()\n",
    "    \n",
    "    max_array = np.zeros(searched_array.shape)\n",
    "\n",
    "    for i in range(max_array.shape[1]):\n",
    "        for j in range(max_array.shape[0]):\n",
    "            max_array[j,i]=searched_array[0:j+1,i].max()\n",
    "    \n",
    "    return max_array, searched_array"
   ]
  },
  {
   "cell_type": "code",
   "execution_count": null,
   "metadata": {},
   "outputs": [],
   "source": [
    "def plot_mean_max_aray(result_path, label, color, obj_name, result_num=10, random_search=10):\n",
    "    max_array,_ = get_max_array(result_path,result_num)\n",
    "    mean_max_array = max_array.mean(axis=1)\n",
    "\n",
    "    plt.plot(max_array, c=color, alpha=0.1)\n",
    "    plt.plot(mean_max_array, c=color, label=label)\n",
    "\n",
    "    # Points where knowledge sharing was performed\n",
    "    # result_list=get_model_select(os.path.join(os.path.dirname(result_path),\"stdout0\"))[f\"BO_system_{obj_name}\"]\n",
    "    # for j in range(len(result_list)):\n",
    "    #     if result_list[j][0]==\"transfer\":\n",
    "    #         plt.axvline(x=random_search+j, color='gray', linestyle='--', alpha=0.2)\n",
    "    # Display the start of exploration\n",
    "    plt.axvline(x=random_search, color='gray', linestyle='-', alpha=0.5)\n",
    "\n",
    "    obj_dict={\"CT\":6,\"MM\":0,\"SP\":2}\n",
    "    full_data = pd.read_csv(\"/workspace/BO_system/dataset/B2_20220520_full.csv\",header=None)\n",
    "    OBJ_MAX = full_data[obj_dict[obj_name]].max()\n",
    "    plt.plot(np.array([OBJ_MAX for i in range(max_array.shape[0])]),\"--\",c=\"g\")\n",
    "\n",
    "    print(label,\":\",mean_max_array.mean())"
   ]
  },
  {
   "cell_type": "code",
   "execution_count": null,
   "metadata": {},
   "outputs": [],
   "source": [
    "def plot_compare(result_path1, result_path2, label_list, obj_name, result_num=10):\n",
    "    max_array1,searched_array1=get_max_array(result_path1, result_num)\n",
    "    max_array2,searched_array2=get_max_array(result_path2, result_num)\n",
    "\n",
    "    obj_dict={\"CT\":6,\"MM\":0,\"SP\":2}\n",
    "    full_data = pd.read_csv(\"/workspace/BO_system/dataset/B2_20220520_full.csv\",header=None)\n",
    "    OBJ_MAX = full_data[obj_dict[obj_name]].max()\n",
    "\n",
    "    for i in range(result_num):\n",
    "        plt.plot(np.array([OBJ_MAX for i in range(max_array1.shape[0])]),\"--\",c=\"g\")\n",
    "        plt.plot(max_array1[:,i], c=\"C0\", label=label_list[0])\n",
    "        plt.plot(max_array2[:,i], c=\"C1\", label=label_list[1])\n",
    "        # Plot exploration points\n",
    "        plt.plot(searched_array1[:,i], c=\"C0\", marker=\".\", linestyle=\"None\")\n",
    "        plt.plot(searched_array2[:,i], c=\"C1\", marker=\".\", linestyle=\"None\")\n",
    "\n",
    "        # Moving average of the past n iterations\n",
    "        # ma_n=10\n",
    "        # moving_average1=np.array([searched_array1[(j-ma_n+1 if j-ma_n+1>=0 else 0):j+1,i].mean() for j in range(searched_array1.shape[0])])\n",
    "        # moving_average2=np.array([searched_array2[(j-ma_n+1 if j-ma_n+1>=0 else 0):j+1,i].mean() for j in range(searched_array2.shape[0])])\n",
    "        # plt.plot(moving_average1, c=\"C0\", linestyle=\"-\")\n",
    "        # plt.plot(moving_average2, c=\"C1\", linestyle=\"-\")\n",
    "\n",
    "        # Points where knowledge sharing was performed\n",
    "        for j in range(15, max_array1.shape[0], 6):\n",
    "            plt.axvline(x=j, color='gray', linestyle='--', alpha=0.2)\n",
    "        # Display the start of exploration\n",
    "        plt.axvline(x=10, color='gray', linestyle='-', alpha=0.5)\n",
    "        plt.title(f\"Comparison of Optimization Efficiency {i} ({obj_name})\")\n",
    "        plt.xlabel(\"Number of Explorations\")\n",
    "        plt.ylabel(f\"Maximum {obj_name} Found\")\n",
    "        plt.legend(loc=\"lower right\")\n",
    "        plt.show()"
   ]
  },
  {
   "cell_type": "markdown",
   "metadata": {},
   "source": [
    "### Comparison of average optimization results"
   ]
  },
  {
   "cell_type": "code",
   "execution_count": null,
   "metadata": {},
   "outputs": [],
   "source": [
    "plot_mean_max_aray(\"result_network10_6/BO_system_CT\",\"No Knowledge Sharing\",\"C0\", \"CT\", result_num=10, random_search=10)\n",
    "plot_mean_max_aray(\"result_network9_6/BO_system_CT\",\"With Knowledge Sharing\",\"C1\", \"CT\", result_num=10, random_search=10)\n",
    "\n",
    "plt.title(\"Comparison of CT Optimization Efficiency\")\n",
    "plt.xlabel(\"Number of Explorations\")\n",
    "plt.ylabel(\"Maximum CT Found\")\n",
    "plt.legend(loc=\"lower right\")\n",
    "# plt.xlim(1000-10,1100)\n",
    "# plt.ylim(800,1000)\n",
    "plt.show()"
   ]
  },
  {
   "cell_type": "code",
   "execution_count": null,
   "metadata": {},
   "outputs": [],
   "source": [
    "plot_mean_max_aray(\"result_network10_6/BO_system_MM\",\"No Knowledge Sharing\",\"C0\", \"MM\", result_num=10, random_search=10)\n",
    "plot_mean_max_aray(\"result_network9_6/BO_system_MM\",\"With Knowledge Sharing\",\"C1\", \"MM\", result_num=10, random_search=10)\n",
    "\n",
    "plt.title(\"Comparison of MM Optimization Efficiency\")\n",
    "plt.xlabel(\"Number of Explorations\")\n",
    "plt.ylabel(\"Maximum MM Found\")\n",
    "plt.legend(loc=\"lower right\")\n",
    "# plt.xlim(2000-10,2200)\n",
    "# plt.xlim(2000-10,2200)\n",
    "# plt.ylim(2.4,2.7)\n",
    "plt.show()"
   ]
  },
  {
   "cell_type": "code",
   "execution_count": null,
   "metadata": {},
   "outputs": [],
   "source": [
    "plot_mean_max_aray(\"result_network10_6/BO_system_SP\",\"No Knowledge Sharing\",\"C0\", \"SP\", result_num=10, random_search=10)\n",
    "plot_mean_max_aray(\"result_network9_6/BO_system_SP\",\"With Knowledge Sharing\",\"C1\", \"SP\", result_num=10, random_search=10)\n",
    "\n",
    "plt.title(\"Comparison of SP Optimization Efficiency\")\n",
    "plt.xlabel(\"Number of Explorations\")\n",
    "plt.ylabel(\"Maximum SP Found\")\n",
    "plt.legend(loc=\"lower right\")\n",
    "plt.show()"
   ]
  },
  {
   "cell_type": "code",
   "execution_count": null,
   "metadata": {},
   "outputs": [],
   "source": []
  }
 ],
 "metadata": {
  "kernelspec": {
   "display_name": "Python 3",
   "language": "python",
   "name": "python3"
  },
  "language_info": {
   "codemirror_mode": {
    "name": "ipython",
    "version": 3
   },
   "file_extension": ".py",
   "mimetype": "text/x-python",
   "name": "python",
   "nbconvert_exporter": "python",
   "pygments_lexer": "ipython3",
   "version": "3.8.10"
  }
 },
 "nbformat": 4,
 "nbformat_minor": 2
}
