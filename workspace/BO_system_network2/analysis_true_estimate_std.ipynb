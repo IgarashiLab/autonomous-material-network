{
 "cells": [
  {
   "cell_type": "code",
   "execution_count": null,
   "metadata": {},
   "outputs": [],
   "source": [
    "import pandas as pd\n",
    "import numpy as np\n",
    "import matplotlib.pyplot as plt\n",
    "import matplotlib.cm as cm\n",
    "import re\n",
    "import os"
   ]
  },
  {
   "cell_type": "code",
   "execution_count": null,
   "metadata": {},
   "outputs": [],
   "source": [
    "def get_sorted_csv_files_std(directory):\n",
    "    # 正規表現パターンを定義\n",
    "    pattern = re.compile(r'true_estimate_std_(\\d{4})\\.csv')\n",
    "    \n",
    "    # ディレクトリ内のファイルを取得\n",
    "    files = os.listdir(directory)\n",
    "    \n",
    "    # ファイル名と4桁の数字を抽出\n",
    "    csv_files = []\n",
    "    for file in files:\n",
    "        match = pattern.match(file)\n",
    "        if match:\n",
    "            csv_files.append((file, int(match.group(1))))\n",
    "    \n",
    "    # 4桁の数字でソート\n",
    "    sorted_csv_files = sorted(csv_files, key=lambda x: x[1])\n",
    "    # print(sorted_csv_files)\n",
    "    \n",
    "    # ソートされたファイル名のリストを取得\n",
    "    sorted_file_names = [file[0] for file in sorted_csv_files]\n",
    "    \n",
    "    return sorted_file_names\n",
    "\n",
    "def read_csv_files(directory, file_list):\n",
    "    data_frames = []\n",
    "    for file in file_list:\n",
    "        file_path = os.path.join(directory, file)\n",
    "        df = pd.read_csv(file_path)\n",
    "        data_frames.append(df)\n",
    "    return data_frames"
   ]
  },
  {
   "cell_type": "code",
   "execution_count": null,
   "metadata": {},
   "outputs": [],
   "source": [
    "def get_sorted_csv_files(directory):\n",
    "    # 正規表現パターンを定義\n",
    "    pattern = re.compile(r'true_estimate_(\\d{4})\\.csv')\n",
    "    \n",
    "    # ディレクトリ内のファイルを取得\n",
    "    files = os.listdir(directory)\n",
    "    \n",
    "    # ファイル名と4桁の数字を抽出\n",
    "    csv_files = []\n",
    "    for file in files:\n",
    "        match = pattern.match(file)\n",
    "        if match:\n",
    "            csv_files.append((file, int(match.group(1))))\n",
    "    \n",
    "    # 4桁の数字でソート\n",
    "    sorted_csv_files = sorted(csv_files, key=lambda x: x[1])\n",
    "    # print(sorted_csv_files)\n",
    "    \n",
    "    # ソートされたファイル名のリストを取得\n",
    "    sorted_file_names = [file[0] for file in sorted_csv_files]\n",
    "    \n",
    "    return sorted_file_names\n",
    "\n",
    "def read_csv_files(directory, file_list):\n",
    "    data_frames = []\n",
    "    for file in file_list:\n",
    "        file_path = os.path.join(directory, file)\n",
    "        df = pd.read_csv(file_path)\n",
    "        data_frames.append(df)\n",
    "    return data_frames"
   ]
  },
  {
   "cell_type": "code",
   "execution_count": null,
   "metadata": {},
   "outputs": [],
   "source": [
    "network_name = \"result_network10_4\"\n",
    "seed=\"seed0\"\n",
    "system_name = \"BO_system_CT\"\n",
    "directory_path=os.path.join(network_name, system_name,\"true_estimate\",seed)\n",
    "\n",
    "sorted_file_list_std = get_sorted_csv_files_std(directory_path)\n",
    "data_frame_list_std = read_csv_files(directory_path, sorted_file_list_std)\n",
    "\n",
    "\n",
    "\n",
    "sorted_file_list = get_sorted_csv_files(directory_path)\n",
    "data_frame_list = read_csv_files(directory_path, sorted_file_list)\n",
    "\n",
    "# 獲得関数のdfリストを作成\n",
    "alpha=3.0\n",
    "data_frame_list_act = []\n",
    "for i in range(len(data_frame_list)):\n",
    "    df = data_frame_list[i]\n",
    "    df_std = data_frame_list_std[i]\n",
    "    df_act = pd.DataFrame({\n",
    "        \"true\": df[\"true\"],\n",
    "        \"estimate\": df[\"estimate\"] + alpha * df_std[\"estimate\"],\n",
    "        \"mat_index\": df[\"mat_index\"]\n",
    "    })\n",
    "    data_frame_list_act.append(df_act)\n",
    "    tmp = df[\"estimate\"].to_numpy() + alpha * df_std[\"estimate\"].to_numpy()\n",
    "print(data_frame_list_act)"
   ]
  },
  {
   "cell_type": "code",
   "execution_count": null,
   "metadata": {},
   "outputs": [],
   "source": [
    "def plot_true_estimate(data_frame_list,title='True vs Estimate'):\n",
    "    # カラーマップを取得\n",
    "    cmap = cm.get_cmap('viridis', len(data_frame_list))\n",
    "    \n",
    "    plt.figure(figsize=(7, 6))\n",
    "    \n",
    "    for idx, df in enumerate(data_frame_list):\n",
    "        color = cmap(idx / len(data_frame_list))\n",
    "        # plt.scatter(df['true'], df['estimate'], label=f'File {idx}', color=color)\n",
    "        plt.scatter(df['true'], df['estimate'], color=color,marker=\".\",alpha=0.1)\n",
    "        arg = df[\"estimate\"].argmax()\n",
    "        plt.scatter(df['true'][arg], df['estimate'][arg], color=\"r\",marker=\".\",alpha=1.0)\n",
    "        # print(df['true'][arg], df['estimate'][arg])\n",
    "    \n",
    "    # y=x の灰色の直線をプロット\n",
    "    min_val = min(df['true'].min() for df in data_frame_list)\n",
    "    max_val = max(df['true'].max() for df in data_frame_list)\n",
    "    plt.plot([min_val, max_val], [min_val, max_val], color='gray', linestyle='--')\n",
    "    \n",
    "    # カラーバーを追加\n",
    "    norm = plt.Normalize(0, len(data_frame_list))\n",
    "    sm = plt.cm.ScalarMappable(cmap=cmap, norm=norm)\n",
    "    sm.set_array([])\n",
    "    plt.colorbar(sm)\n",
    "\n",
    "\n",
    "    plt.xlabel('True')\n",
    "    plt.ylabel('Estimate')\n",
    "    plt.title(title)\n",
    "    # plt.legend()\n",
    "    plt.show()"
   ]
  },
  {
   "cell_type": "code",
   "execution_count": null,
   "metadata": {},
   "outputs": [],
   "source": [
    "# plot_true_estimate(data_frame_list_std, title='True vs Estimate CT')\n",
    "plot_true_estimate(data_frame_list, title='True vs Estimate MM')"
   ]
  },
  {
   "cell_type": "code",
   "execution_count": null,
   "metadata": {},
   "outputs": [],
   "source": [
    "# 予測値と分散値で再計算した獲得関数による探索候補点\n",
    "for i in range(len(data_frame_list_act)):\n",
    "    arg = data_frame_list_act[i][\"estimate\"].argmax()\n",
    "    print(data_frame_list_act[i][\"true\"][arg])"
   ]
  },
  {
   "cell_type": "code",
   "execution_count": null,
   "metadata": {},
   "outputs": [],
   "source": [
    "# 絶対インデックスを追跡することによる、探索候補点\n",
    "# index_list = []\n",
    "# for i in range(len(data_frame_list_act)-1):\n",
    "#     print(len(data_frame_list_act[i][\"mat_index\"]),len(data_frame_list_act[i+1][\"mat_index\"]))\n",
    "#     diff = set(data_frame_list_act[i][\"mat_index\"].to_numpy()).difference(set(data_frame_list_act[i+1][\"mat_index\"].to_numpy()))\n",
    "#     print(list(data_frame_list_act[i][\"true\"][data_frame_list_act[i][\"mat_index\"]==list(diff)[0]])[0])\n",
    "#     index_list.append(list(diff)[0])\n",
    "\n",
    "#絶対インデックスが正しいか確認してみる\n",
    "# df = pd.read_csv(\"network10_4/BO_system_CT/complete_B2_target.csv\",header=None)\n",
    "# print(df[0][index_list])"
   ]
  },
  {
   "cell_type": "code",
   "execution_count": null,
   "metadata": {},
   "outputs": [],
   "source": [
    "# データセットに重複がある問題\n",
    "\n",
    "# df = pd.read_csv(\"network10_4/BO_system_CT/complete_input_features.csv\",header=None)\n",
    "# composition_list = []\n",
    "# for i in range(len(df)):\n",
    "#     composition_list.append(tuple(df.iloc[i]))\n",
    "# print(len(composition_list),len(set(composition_list)))\n",
    "\n",
    "# # どの要素がどれと重複しているのか、グループ化してみる\n",
    "# composition_dict = {}\n",
    "# for i in range(len(df)):\n",
    "#     composition = tuple(df.iloc[i])\n",
    "#     if composition not in composition_dict:\n",
    "#         composition_dict[composition] = []\n",
    "#     composition_dict[composition].append(i)\n",
    "\n",
    "# # 重複している要素を表示\n",
    "# composition_dict_duplicates = {k: v for k, v in composition_dict.items() if len(v) > 1}\n",
    "# # for composition, indices in composition_dict_duplicates.items():\n",
    "# #     print(f\"Composition: {composition}, Indices: {indices}\")\n",
    "\n",
    "# df2 = pd.read_csv(\"network10_4/BO_system_CT/complete_B2_target.csv\",header=None)\n",
    "# for composition, indices in composition_dict_duplicates.items():\n",
    "#     print(df2.iloc[indices])"
   ]
  },
  {
   "cell_type": "code",
   "execution_count": null,
   "metadata": {},
   "outputs": [],
   "source": [
    "def plot_true_estimate_one(data_frame_list,index=0,title='True vs Estimate'):\n",
    "    # カラーマップを取得\n",
    "    cmap = cm.get_cmap('viridis', len(data_frame_list))\n",
    "    \n",
    "    plt.figure(figsize=(7, 6))\n",
    "    \n",
    "    # for idx, df in enumerate(data_frame_list):\n",
    "    idx=index\n",
    "    df=data_frame_list[idx]\n",
    "    color = cmap(idx / len(data_frame_list))\n",
    "    plt.scatter(df['true'], df['estimate'], color=color,marker=\".\",alpha=0.5)\n",
    "    \n",
    "    # y=x の灰色の直線をプロット\n",
    "    min_val = min(df['true'].min() for df in data_frame_list)\n",
    "    max_val = max(df['true'].max() for df in data_frame_list)\n",
    "    plt.plot([min_val, max_val], [min_val, max_val], color='gray', linestyle='--')\n",
    "    \n",
    "    # カラーバーを追加\n",
    "    norm = plt.Normalize(0, len(data_frame_list))\n",
    "    sm = plt.cm.ScalarMappable(cmap=cmap, norm=norm)\n",
    "    sm.set_array([])\n",
    "    plt.colorbar(sm)\n",
    "\n",
    "\n",
    "    plt.xlabel('True')\n",
    "    plt.ylabel('Estimate')\n",
    "    plt.title(title)\n",
    "    # plt.legend()\n",
    "    plt.show()"
   ]
  },
  {
   "cell_type": "code",
   "execution_count": null,
   "metadata": {},
   "outputs": [],
   "source": [
    "plot_true_estimate_one(data_frame_list, 0, title='True vs Estimate CT(0)')\n",
    "plot_true_estimate_one(data_frame_list, 99, title='True vs Estimate CT(99)')\n",
    "# plot_true_estimate_one(data_frame_list, 199, title='True vs Estimate CT(199)')"
   ]
  },
  {
   "cell_type": "code",
   "execution_count": null,
   "metadata": {},
   "outputs": [],
   "source": [
    "def plot_true_histgram(data_frame_list,title='True vs Estimate'):\n",
    "    # カラーマップを取得\n",
    "    cmap = cm.get_cmap('viridis', len(data_frame_list))\n",
    "    \n",
    "    plt.figure(figsize=(7, 6))\n",
    "    \n",
    "    for idx, df in enumerate(data_frame_list):\n",
    "        color = cmap(idx / len(data_frame_list))\n",
    "        # plt.scatter(df['true'], df['estimate'], label=f'File {idx}', color=color)\n",
    "        plt.hist(df['true'], bins=100,color=color,alpha=0.5,log=True)\n",
    "    \n",
    "    \n",
    "    # カラーバーを追加\n",
    "    norm = plt.Normalize(0, len(data_frame_list))\n",
    "    sm = plt.cm.ScalarMappable(cmap=cmap, norm=norm)\n",
    "    sm.set_array([])\n",
    "    plt.colorbar(sm)\n",
    "\n",
    "\n",
    "    plt.xlabel('Curie Temperature')\n",
    "    plt.ylabel('Count')\n",
    "    plt.title(title)\n",
    "    # plt.legend()\n",
    "    plt.show()\n",
    "\n",
    "def plot_histogram_difference(data_frame_list, title='Histogram Difference'):\n",
    "    if len(data_frame_list) < 2:\n",
    "        raise ValueError(\"data_frame_list must contain at least two data frames.\")\n",
    "    \n",
    "    # 最初と最後のデータフレームを取得\n",
    "    df_first = data_frame_list[0]\n",
    "    df_last = data_frame_list[-1]\n",
    "    \n",
    "    # ヒストグラムを計算\n",
    "    hist_first, bins_first = np.histogram(df_first['true'], bins=100)\n",
    "    hist_last, bins_last = np.histogram(df_last['true'], bins=bins_first)\n",
    "    \n",
    "    # 差分を計算\n",
    "    hist_diff =  hist_first - hist_last\n",
    "    print(hist_diff)\n",
    "    print(sum(hist_diff))\n",
    "    \n",
    "    # プロット\n",
    "    plt.figure(figsize=(7, 6))\n",
    "    plt.hist(bins_first[:-1], bins_first, weights=hist_diff, alpha=0.5)\n",
    "    \n",
    "    plt.xlabel('True')\n",
    "    plt.ylabel('Difference in Count')\n",
    "    plt.title(title)\n",
    "    plt.show()"
   ]
  },
  {
   "cell_type": "code",
   "execution_count": null,
   "metadata": {},
   "outputs": [],
   "source": [
    "plot_true_histgram(data_frame_list, title='True histgram CT')"
   ]
  },
  {
   "cell_type": "code",
   "execution_count": null,
   "metadata": {},
   "outputs": [],
   "source": [
    "plot_histogram_difference(data_frame_list, title='Histogram searched CT')"
   ]
  },
  {
   "cell_type": "code",
   "execution_count": null,
   "metadata": {},
   "outputs": [],
   "source": [
    "def calculate_mae(data_frame_list):\n",
    "    mae_list = []\n",
    "    for df in data_frame_list:\n",
    "        mae = np.mean(np.abs(df['true'] - df['estimate']))\n",
    "        # estimateの分布を整える。estimateの最小値が0になるように調整し算出する。\n",
    "        # mae = np.mean(np.abs(df['true'] - (df['estimate'] - df['estimate'].min())))\n",
    "        mae_list.append(mae)\n",
    "    return mae_list\n",
    "\n",
    "def plot_mae(mae_list):\n",
    "    plt.figure(figsize=(10, 6))\n",
    "    plt.plot(mae_list, marker='o', linestyle='-', color='b')\n",
    "    plt.xlabel('File Index')\n",
    "    plt.ylabel('MAE')\n",
    "    plt.title('Mean Absolute Error (MAE) for Each File')\n",
    "    plt.show()"
   ]
  },
  {
   "cell_type": "code",
   "execution_count": null,
   "metadata": {},
   "outputs": [],
   "source": [
    "# MAEを計算\n",
    "mae_list = calculate_mae(data_frame_list)\n",
    "# MAEをプロット\n",
    "plot_mae(mae_list)"
   ]
  },
  {
   "cell_type": "markdown",
   "metadata": {},
   "source": [
    "trainとvalのデータを取得し、normalizationに使った平均と分散を求める\n",
    "\n",
    "NNの出力を逆算する。"
   ]
  },
  {
   "cell_type": "code",
   "execution_count": null,
   "metadata": {},
   "outputs": [],
   "source": [
    "def get_sorted_csv_files_train(directory):\n",
    "    # 正規表現パターンを定義\n",
    "    pattern = re.compile(r'true_estimate_train_(\\d{4})\\.csv')\n",
    "    \n",
    "    # ディレクトリ内のファイルを取得\n",
    "    files = os.listdir(directory)\n",
    "    \n",
    "    # ファイル名と4桁の数字を抽出\n",
    "    csv_files = []\n",
    "    for file in files:\n",
    "        match = pattern.match(file)\n",
    "        if match:\n",
    "            csv_files.append((file, int(match.group(1))))\n",
    "    \n",
    "    # 4桁の数字でソート\n",
    "    sorted_csv_files = sorted(csv_files, key=lambda x: x[1])\n",
    "    \n",
    "    # ソートされたファイル名のリストを取得\n",
    "    sorted_file_names = [file[0] for file in sorted_csv_files]\n",
    "    \n",
    "    return sorted_file_names\n",
    "\n",
    "def get_sorted_csv_files_test(directory):\n",
    "    # 正規表現パターンを定義\n",
    "    pattern = re.compile(r'true_estimate_test_(\\d{4})\\.csv')\n",
    "    \n",
    "    # ディレクトリ内のファイルを取得\n",
    "    files = os.listdir(directory)\n",
    "    \n",
    "    # ファイル名と4桁の数字を抽出\n",
    "    csv_files = []\n",
    "    for file in files:\n",
    "        match = pattern.match(file)\n",
    "        if match:\n",
    "            csv_files.append((file, int(match.group(1))))\n",
    "    \n",
    "    # 4桁の数字でソート\n",
    "    sorted_csv_files = sorted(csv_files, key=lambda x: x[1])\n",
    "    \n",
    "    # ソートされたファイル名のリストを取得\n",
    "    sorted_file_names = [file[0] for file in sorted_csv_files]\n",
    "    \n",
    "    return sorted_file_names\n",
    "\n",
    "def read_csv_files(directory, file_list):\n",
    "    data_frames = []\n",
    "    for file in file_list:\n",
    "        file_path = os.path.join(directory, file)\n",
    "        df = pd.read_csv(file_path)\n",
    "        data_frames.append(df)\n",
    "    return data_frames"
   ]
  },
  {
   "cell_type": "code",
   "execution_count": null,
   "metadata": {},
   "outputs": [],
   "source": [
    "sorted_file_list_train = get_sorted_csv_files_train(directory_path)\n",
    "sorted_file_list_test = get_sorted_csv_files_test(directory_path)\n",
    "data_frame_list_train = read_csv_files(directory_path, sorted_file_list_train)\n",
    "data_frame_list_test = read_csv_files(directory_path, sorted_file_list_test)"
   ]
  },
  {
   "cell_type": "code",
   "execution_count": null,
   "metadata": {},
   "outputs": [],
   "source": [
    "# 各探索時のnormalizationに利用した平均と分散を算出\n",
    "\n",
    "mean_list = []\n",
    "std_list = []\n",
    "for i in range(len(data_frame_list_train)):\n",
    "    cocat_observed_true = pd.concat([data_frame_list_train[i][\"observed\"], data_frame_list_test[i][\"observed\"]])\n",
    "    mean_list.append(cocat_observed_true.mean())\n",
    "    std_list.append(cocat_observed_true.std())"
   ]
  },
  {
   "cell_type": "code",
   "execution_count": null,
   "metadata": {},
   "outputs": [],
   "source": [
    "plt.plot(mean_list)"
   ]
  },
  {
   "cell_type": "code",
   "execution_count": null,
   "metadata": {},
   "outputs": [],
   "source": [
    "plt.plot(std_list)"
   ]
  },
  {
   "cell_type": "code",
   "execution_count": null,
   "metadata": {},
   "outputs": [],
   "source": [
    "# unobservedのestimateについて、normalizationを行う\n",
    "data_frame_list_new = data_frame_list.copy()\n",
    "\n",
    "mean = 48.843473\n",
    "std = 102.022205\n",
    "for i in range(len(data_frame_list_new)):\n",
    "    data_frame_list_new[i][\"estimate\"] = (data_frame_list_new[i][\"estimate\"] - mean) / std\n",
    "\n",
    "# unobsdervedのestimateについて、正しい値でdenormalizationを行う\n",
    "for i in range(len(data_frame_list_new)):\n",
    "    data_frame_list_new[i][\"estimate\"] = data_frame_list_new[i][\"estimate\"] * std_list[i] + mean_list[i]\n"
   ]
  },
  {
   "cell_type": "code",
   "execution_count": null,
   "metadata": {},
   "outputs": [],
   "source": [
    "plot_true_estimate(data_frame_list_new, title='True vs Estimate CT(fixed)')"
   ]
  },
  {
   "cell_type": "code",
   "execution_count": null,
   "metadata": {},
   "outputs": [],
   "source": [
    "plot_true_estimate_one(data_frame_list_new, 0, title='True vs Estimate CT(0)')\n",
    "# plot_true_estimate_one(data_frame_list_new, 99, title='True vs Estimate CT(99)')"
   ]
  },
  {
   "cell_type": "code",
   "execution_count": null,
   "metadata": {},
   "outputs": [],
   "source": [
    "# MAEを計算\n",
    "mae_list_new = calculate_mae(data_frame_list_new)\n",
    "# MAEをプロット\n",
    "plot_mae(mae_list_new)"
   ]
  }
 ],
 "metadata": {
  "kernelspec": {
   "display_name": "Python 3",
   "language": "python",
   "name": "python3"
  },
  "language_info": {
   "codemirror_mode": {
    "name": "ipython",
    "version": 3
   },
   "file_extension": ".py",
   "mimetype": "text/x-python",
   "name": "python",
   "nbconvert_exporter": "python",
   "pygments_lexer": "ipython3",
   "version": "3.8.10"
  }
 },
 "nbformat": 4,
 "nbformat_minor": 2
}
