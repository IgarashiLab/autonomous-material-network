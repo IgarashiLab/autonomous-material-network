{
 "cells": [
  {
   "cell_type": "code",
   "execution_count": null,
   "metadata": {},
   "outputs": [],
   "source": [
    "import pandas as pd\n",
    "import numpy as np\n",
    "import matplotlib.pyplot as plt\n",
    "import matplotlib.cm as cm\n",
    "import re\n",
    "import os"
   ]
  },
  {
   "cell_type": "code",
   "execution_count": null,
   "metadata": {},
   "outputs": [],
   "source": [
    "def get_sorted_csv_files(directory):\n",
    "    # Define the regular expression pattern\n",
    "    pattern = re.compile(r'true_estimate_(\\d{4})\\.csv')\n",
    "    \n",
    "    # Get files in the directory\n",
    "    files = os.listdir(directory)\n",
    "    \n",
    "    # Extract file names and 4-digit numbers\n",
    "    csv_files = []\n",
    "    for file in files:\n",
    "        match = pattern.match(file)\n",
    "        if match:\n",
    "            csv_files.append((file, int(match.group(1))))\n",
    "    \n",
    "    # Sort by the 4-digit number\n",
    "    sorted_csv_files = sorted(csv_files, key=lambda x: x[1])\n",
    "    # print(sorted_csv_files)\n",
    "    \n",
    "    # Get the list of sorted file names\n",
    "    sorted_file_names = [file[0] for file in sorted_csv_files]\n",
    "    \n",
    "    return sorted_file_names\n",
    "\n",
    "def read_csv_files(directory, file_list):\n",
    "    data_frames = []\n",
    "    for file in file_list:\n",
    "        file_path = os.path.join(directory, file)\n",
    "        df = pd.read_csv(file_path)\n",
    "        data_frames.append(df)\n",
    "    return data_frames"
   ]
  },
  {
   "cell_type": "code",
   "execution_count": null,
   "metadata": {},
   "outputs": [],
   "source": [
    "network_name = \"result_network10_6\"\n",
    "seed=\"seed0\"\n",
    "system_name = \"BO_system_CT\"\n",
    "directory_path=os.path.join(network_name, system_name,\"true_estimate\",seed)\n",
    "\n",
    "sorted_file_list = get_sorted_csv_files(directory_path)\n",
    "data_frame_list = read_csv_files(directory_path, sorted_file_list)\n",
    "\n",
    "\n",
    "for df in data_frame_list:\n",
    "    print(df)"
   ]
  },
  {
   "cell_type": "code",
   "execution_count": null,
   "metadata": {},
   "outputs": [],
   "source": [
    "def plot_true_estimate(data_frame_list,title='True vs Estimate'):\n",
    "    # Retrieve the colormap\n",
    "    cmap = cm.get_cmap('viridis', len(data_frame_list))\n",
    "    \n",
    "    plt.figure(figsize=(7, 6))\n",
    "    \n",
    "    for idx, df in enumerate(data_frame_list):\n",
    "        color = cmap(idx / len(data_frame_list))\n",
    "        # plt.scatter(df['true'], df['estimate'], label=f'File {idx}', color=color)\n",
    "        plt.scatter(df['true'], df['estimate'], color=color,marker=\".\",alpha=0.5)\n",
    "    \n",
    "    # Plot the gray y=x line\n",
    "    min_val = min(df['true'].min() for df in data_frame_list)\n",
    "    max_val = max(df['true'].max() for df in data_frame_list)\n",
    "    plt.plot([min_val, max_val], [min_val, max_val], color='gray', linestyle='--')\n",
    "    \n",
    "    # Add a color bar\n",
    "    norm = plt.Normalize(0, len(data_frame_list))\n",
    "    sm = plt.cm.ScalarMappable(cmap=cmap, norm=norm)\n",
    "    sm.set_array([])\n",
    "    plt.colorbar(sm)\n",
    "\n",
    "\n",
    "    plt.xlabel('True')\n",
    "    plt.ylabel('Estimate')\n",
    "    plt.title(title)\n",
    "    # plt.legend()\n",
    "    plt.show()"
   ]
  },
  {
   "cell_type": "code",
   "execution_count": null,
   "metadata": {},
   "outputs": [],
   "source": [
    "plot_true_estimate(data_frame_list, title='True vs Estimate CT')"
   ]
  },
  {
   "cell_type": "code",
   "execution_count": null,
   "metadata": {},
   "outputs": [],
   "source": [
    "def plot_true_estimate_one(data_frame_list,index=0,title='True vs Estimate'):\n",
    "    # Retrieve the colormap\n",
    "    cmap = cm.get_cmap('viridis', len(data_frame_list))\n",
    "    \n",
    "    plt.figure(figsize=(7, 6))\n",
    "    \n",
    "    # for idx, df in enumerate(data_frame_list):\n",
    "    idx=index\n",
    "    df=data_frame_list[idx]\n",
    "    color = cmap(idx / len(data_frame_list))\n",
    "    plt.scatter(df['true'], df['estimate'], color=color,marker=\".\",alpha=0.5)\n",
    "    \n",
    "    # Plot the gray y=x line\n",
    "    min_val = min(df['true'].min() for df in data_frame_list)\n",
    "    max_val = max(df['true'].max() for df in data_frame_list)\n",
    "    plt.plot([min_val, max_val], [min_val, max_val], color='gray', linestyle='--')\n",
    "    \n",
    "    # Add a color bar\n",
    "    norm = plt.Normalize(0, len(data_frame_list))\n",
    "    sm = plt.cm.ScalarMappable(cmap=cmap, norm=norm)\n",
    "    sm.set_array([])\n",
    "    plt.colorbar(sm)\n",
    "\n",
    "\n",
    "    plt.xlabel('True')\n",
    "    plt.ylabel('Estimate')\n",
    "    plt.title(title)\n",
    "    # plt.legend()\n",
    "    plt.show()"
   ]
  },
  {
   "cell_type": "code",
   "execution_count": null,
   "metadata": {},
   "outputs": [],
   "source": [
    "# plot_true_estimate_one(data_frame_list, 0, title='True vs Estimate CT(0)')\n",
    "# plot_true_estimate_one(data_frame_list, 99, title='True vs Estimate CT(99)')"
   ]
  },
  {
   "cell_type": "code",
   "execution_count": null,
   "metadata": {},
   "outputs": [],
   "source": [
    "def plot_true_histgram(data_frame_list,title='True vs Estimate'):\n",
    "    # Retrieve the colormap\n",
    "    cmap = cm.get_cmap('viridis', len(data_frame_list))\n",
    "    \n",
    "    plt.figure(figsize=(7, 6))\n",
    "    \n",
    "    for idx, df in enumerate(data_frame_list):\n",
    "        color = cmap(idx / len(data_frame_list))\n",
    "        # plt.scatter(df['true'], df['estimate'], label=f'File {idx}', color=color)\n",
    "        plt.hist(df['true'], bins=100,color=color,alpha=0.5,log=True)\n",
    "    \n",
    "    \n",
    "    # Add a color bar\n",
    "    norm = plt.Normalize(0, len(data_frame_list))\n",
    "    sm = plt.cm.ScalarMappable(cmap=cmap, norm=norm)\n",
    "    sm.set_array([])\n",
    "    plt.colorbar(sm)\n",
    "\n",
    "\n",
    "    plt.xlabel('Curie Temperature')\n",
    "    plt.ylabel('Count')\n",
    "    plt.title(title)\n",
    "    # plt.legend()\n",
    "    plt.show()\n",
    "\n",
    "def plot_histogram_difference(data_frame_list, title='Histogram Difference'):\n",
    "    if len(data_frame_list) < 2:\n",
    "        raise ValueError(\"data_frame_list must contain at least two data frames.\")\n",
    "    \n",
    "    # Retrieve the first and last data frames\n",
    "    df_first = data_frame_list[0]\n",
    "    df_last = data_frame_list[-1]\n",
    "    \n",
    "    # Calculate histograms\n",
    "    hist_first, bins_first = np.histogram(df_first['true'], bins=100)\n",
    "    hist_last, bins_last = np.histogram(df_last['true'], bins=bins_first)\n",
    "    \n",
    "    # Calculate the difference\n",
    "    hist_diff =  hist_first - hist_last\n",
    "    print(hist_diff)\n",
    "    print(sum(hist_diff))\n",
    "    \n",
    "    # Plot the difference\n",
    "    plt.figure(figsize=(7, 6))\n",
    "    plt.hist(bins_first[:-1], bins_first, weights=hist_diff, alpha=0.5)\n",
    "    \n",
    "    plt.xlabel('True')\n",
    "    plt.ylabel('Difference in Count')\n",
    "    plt.title(title)\n",
    "    plt.show()"
   ]
  },
  {
   "cell_type": "code",
   "execution_count": null,
   "metadata": {},
   "outputs": [],
   "source": [
    "plot_true_histgram(data_frame_list, title='True histgram CT')"
   ]
  },
  {
   "cell_type": "code",
   "execution_count": null,
   "metadata": {},
   "outputs": [],
   "source": [
    "plot_histogram_difference(data_frame_list, title='Histogram searched CT')"
   ]
  },
  {
   "cell_type": "code",
   "execution_count": null,
   "metadata": {},
   "outputs": [],
   "source": [
    "def calculate_mae(data_frame_list):\n",
    "    mae_list = []\n",
    "    for df in data_frame_list:\n",
    "        mae = np.mean(np.abs(df['true'] - df['estimate']))\n",
    "        mae_list.append(mae)\n",
    "    return mae_list\n",
    "\n",
    "def plot_mae(mae_list):\n",
    "    plt.figure(figsize=(10, 6))\n",
    "    plt.plot(mae_list, marker='o', linestyle='-', color='b')\n",
    "    plt.xlabel('File Index')\n",
    "    plt.ylabel('MAE')\n",
    "    plt.title('Mean Absolute Error (MAE) for Each File')\n",
    "    plt.show()"
   ]
  },
  {
   "cell_type": "code",
   "execution_count": null,
   "metadata": {},
   "outputs": [],
   "source": [
    "# Calculate MAE\n",
    "mae_list = calculate_mae(data_frame_list)\n",
    "# Plot MAE\n",
    "plot_mae(mae_list)"
   ]
  },
  {
   "cell_type": "code",
   "execution_count": null,
   "metadata": {},
   "outputs": [],
   "source": []
  }
 ],
 "metadata": {
  "kernelspec": {
   "display_name": "Python 3",
   "language": "python",
   "name": "python3"
  },
  "language_info": {
   "codemirror_mode": {
    "name": "ipython",
    "version": 3
   },
   "file_extension": ".py",
   "mimetype": "text/x-python",
   "name": "python",
   "nbconvert_exporter": "python",
   "pygments_lexer": "ipython3",
   "version": "3.8.10"
  }
 },
 "nbformat": 4,
 "nbformat_minor": 2
}
